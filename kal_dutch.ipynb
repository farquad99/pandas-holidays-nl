{
 "cells": [
  {
   "cell_type": "markdown",
   "id": "f308b2d3-9e04-4105-a231-95690bab4a12",
   "metadata": {},
   "source": [
    "after german,france and US examples."
   ]
  },
  {
   "cell_type": "code",
   "execution_count": null,
   "id": "d016ee1f-a7e2-4623-900c-afb2fd736aff",
   "metadata": {},
   "outputs": [],
   "source": [
    "# imports\n",
    "import pandas as pd\n",
    "from pandas.tseries.holiday import AbstractHolidayCalendar, Holiday, EasterMonday, Easter\n",
    "from pandas.tseries.offsets import Day, CDay #, CustomBusinessDay\n",
    "from datetime import date"
   ]
  },
  {
   "cell_type": "markdown",
   "id": "87fb87a2-0d88-4c44-8b04-9dd2e384df37",
   "metadata": {},
   "source": [
    "You can use observance instead of offset when making the Holiday and have it return None on odd years:<br>\n",
    "see > https://stackoverflow.com/questions/34708626/pandas-holiday-calendar-rule-for-us-election-day"
   ]
  },
  {
   "cell_type": "code",
   "execution_count": null,
   "id": "203a4b15-dfdf-4a56-878f-a1ee7753dd33",
   "metadata": {},
   "outputs": [],
   "source": [
    "# adjusted for deciding if the 5th of May is holiday\n",
    "def bevrijding_observance(dt):\n",
    "    if dt.year > 2011:\n",
    "        if dt.year % 5 != 0: # % 2 == 1 \n",
    "            return None\n",
    "        else:\n",
    "            return dt\n",
    "    else:\n",
    "        return dt"
   ]
  },
  {
   "cell_type": "markdown",
   "id": "db508eeb-c484-4d17-b344-d1117f4e5d29",
   "metadata": {},
   "source": [
    "----------------------------"
   ]
  },
  {
   "cell_type": "markdown",
   "id": "18cb9ad4-26d1-49e9-a7db-4d939f7b83bb",
   "metadata": {},
   "source": [
    "more observance rules for koninginnedag, if year is before 2014, then the holiday is on 30 april<br> \n",
    "and for koningsdag, if year after 2014, then the holiday is on 27 april."
   ]
  },
  {
   "cell_type": "code",
   "execution_count": null,
   "id": "c7aa45ac-2ea6-41ff-a029-1d63bcc6a590",
   "metadata": {},
   "outputs": [],
   "source": [
    "def konings_observance(dt):\n",
    "    if dt.year > 2013:\n",
    "        return dt\n",
    "    else:\n",
    "        return None\n",
    "\n",
    "def koninginne_observance(dt):\n",
    "    if dt.year < 2014:\n",
    "        return dt\n",
    "    else:\n",
    "        return None"
   ]
  },
  {
   "cell_type": "markdown",
   "id": "3dc35972-9b70-42fd-b17c-800b9d78d4f0",
   "metadata": {},
   "source": [
    "see also > https://stackoverflow.com/questions/45654473/holiday-calendar-in-pandas-dataframe<br>\n",
    "and > https://www.wikiod.com/w/Pandas_Holiday_Calendars"
   ]
  },
  {
   "cell_type": "markdown",
   "id": "a02156db-2ee6-4894-891d-2df349bc6b50",
   "metadata": {},
   "source": [
    "Dutch<br>\n",
    "Hemelvaart is 39 dagen na Eerste Paasdag.<br>\n",
    "Pinksteren is de zevende zondag na Pasen, dat is dus 49 dagen.<br>\n",
    "Tweede Pinksterdag is dus 50 dagen na Pasen."
   ]
  },
  {
   "cell_type": "code",
   "execution_count": null,
   "id": "95c4f26c-f702-4b68-a094-0140193a2396",
   "metadata": {},
   "outputs": [],
   "source": [
    "# Pinksteren is altijd 7 weken na Pasen\n",
    "# dus Pinkster-zondag = 49 dagen na pasen en Pinkster-maandag dus 50\n",
    "class NLFeestdagen(AbstractHolidayCalendar):\n",
    "    rules = [Holiday('Nieuwjaars Dag', month=1, day=1),\n",
    "             #EasterMonday, # gives an english name\n",
    "             Holiday('Paas maandag',month=1, day=1, offset=[Easter(), Day(1)]),\n",
    "             Holiday('Koningsdag', month=4,day=27, observance=konings_observance),\n",
    "             Holiday('Koninginnedag', month=4,day=30, observance=koninginne_observance),\n",
    "             Holiday('Bevrijdingsdag', month=5, day=5, observance=bevrijding_observance),\n",
    "             Holiday('Hemelvaartsdag', month=1, day=1, offset=[Easter(), Day(39)]),             \n",
    "             Holiday('2e-Pinksterdag', month=1, day=1, offset=[Easter(), Day(50)]),             \n",
    "             Holiday('Kerstmis',month=12,day=25),\n",
    "             Holiday('2e-Kerstdag',month=12,day=26),\n",
    "            ]"
   ]
  },
  {
   "cell_type": "code",
   "execution_count": null,
   "id": "25584e23-651e-4777-aaea-a122466d4c9c",
   "metadata": {},
   "outputs": [],
   "source": [
    "cal = NLFeestdagen()"
   ]
  },
  {
   "cell_type": "markdown",
   "id": "dbc1a226-5c96-4440-b210-2669ee700396",
   "metadata": {},
   "source": [
    "see > https://stackoverflow.com/questions/45654473/holiday-calendar-in-pandas-dataframe"
   ]
  },
  {
   "cell_type": "code",
   "execution_count": null,
   "id": "491843cc-14fb-4361-a0d2-0eef3fee9caa",
   "metadata": {},
   "outputs": [],
   "source": [
    "X = pd.DataFrame({'Time (CET)': pd.date_range(start='2013-01-01', end='2014-12-31', freq='24H')})"
   ]
  },
  {
   "cell_type": "code",
   "execution_count": null,
   "id": "e0d09e3c-5468-4bdc-b8a6-9c8ef0443f8f",
   "metadata": {},
   "outputs": [],
   "source": [
    "holidays = cal.holidays(start=X['Time (CET)'].min(), end = X['Time (CET)'].max())"
   ]
  },
  {
   "cell_type": "code",
   "execution_count": null,
   "id": "da17c8dc-7053-4bb1-be41-d795f371de3b",
   "metadata": {},
   "outputs": [],
   "source": [
    "# if needed to fix dtype of 'Time (CET)'\n",
    "#X['Time (CET)'] = pd.to_datetime(X['Time (CET)'], dayfirst=True, errors='coerce')"
   ]
  },
  {
   "cell_type": "code",
   "execution_count": null,
   "id": "ea62846c-4d3f-44fa-bddc-770d05c5db48",
   "metadata": {},
   "outputs": [],
   "source": [
    "# pu a 1 or 0 in column 'Holiday' if date is a holiday or not\n",
    "X = X.assign(Holiday=X['Time (CET)'].isin(cal.holidays()).astype(int))"
   ]
  },
  {
   "cell_type": "code",
   "execution_count": null,
   "id": "d478f622-1243-460a-8531-1559fced4c23",
   "metadata": {},
   "outputs": [],
   "source": [
    "# show X\n",
    "X"
   ]
  },
  {
   "cell_type": "code",
   "execution_count": null,
   "id": "c62d9e7f-a0fb-4572-a0ec-d18c1d536fda",
   "metadata": {},
   "outputs": [],
   "source": [
    "# filter X op Holiday == 1\n",
    "filt = (X['Holiday'] == 1 )\n",
    "result = X.loc[filt]"
   ]
  },
  {
   "cell_type": "code",
   "execution_count": null,
   "id": "33fb3844-6106-4b90-baee-470a0226921f",
   "metadata": {},
   "outputs": [],
   "source": [
    "result"
   ]
  },
  {
   "cell_type": "code",
   "execution_count": null,
   "id": "e10d0da5-4c2f-4fc6-97a6-6e1923a319d8",
   "metadata": {},
   "outputs": [],
   "source": [
    "# with holiday names\n",
    "# Creating some boundaries\n",
    "year = 2013 # try 2014 or later , to see change in happydays\n",
    "start = date(year, 1, 1)\n",
    "end = start + pd.offsets.MonthEnd(12)\n",
    "happydays = cal.holidays(start=start, end=end, return_name=True)"
   ]
  },
  {
   "cell_type": "code",
   "execution_count": null,
   "id": "fe7d3747-5af9-4c54-ae47-eb05013cb44e",
   "metadata": {},
   "outputs": [],
   "source": [
    "happydays"
   ]
  },
  {
   "cell_type": "code",
   "execution_count": null,
   "id": "38b20d6e-d7ad-4183-9e5d-d7050330a52d",
   "metadata": {},
   "outputs": [],
   "source": [
    "happydays.reset_index(name='feestdag').rename(columns={'index':'date'})"
   ]
  },
  {
   "cell_type": "code",
   "execution_count": null,
   "id": "18d3806a-6887-4b59-a54d-506960239701",
   "metadata": {},
   "outputs": [],
   "source": [
    "df3 = pd.DataFrame(happydays)"
   ]
  },
  {
   "cell_type": "code",
   "execution_count": null,
   "id": "5d70acba-55fd-4332-b6cc-25fd21d39556",
   "metadata": {},
   "outputs": [],
   "source": [
    "df3.columns= ['feestdag']\n",
    "df3.head()"
   ]
  },
  {
   "cell_type": "markdown",
   "id": "8ace8d8a-e5d5-4bec-94cd-3110427f422c",
   "metadata": {},
   "source": [
    "-----------------------------------------------------------------"
   ]
  },
  {
   "cell_type": "markdown",
   "id": "244a1848-d508-4857-a583-36d6cd700976",
   "metadata": {},
   "source": [
    "second example"
   ]
  },
  {
   "cell_type": "code",
   "execution_count": null,
   "id": "42a3c40a-4a54-4cc0-8483-c0325ee1b809",
   "metadata": {},
   "outputs": [],
   "source": [
    "# version 2 , create dataframe with datetime column ,1100 rows \n",
    "df = pd.DataFrame({'Date':pd.date_range('2020-01-01 00:00:00', freq='24H', periods=1099)})"
   ]
  },
  {
   "cell_type": "code",
   "execution_count": null,
   "id": "f76460fa-7851-437e-99fa-52c9b5494204",
   "metadata": {},
   "outputs": [],
   "source": [
    "X2 = pd.DataFrame({'Time (CET)': pd.date_range(start='2020-01-01', end='2022-12-31', freq='24H')})\n",
    "holidays2 = cal.holidays(start=X2['Time (CET)'].min(), end = X2['Time (CET)'].max())"
   ]
  },
  {
   "cell_type": "code",
   "execution_count": null,
   "id": "c28c1679-610c-48d6-925d-b737cb6e8edc",
   "metadata": {},
   "outputs": [],
   "source": [
    "# en filter op holidays\n",
    "df.loc[df.Date.dt.normalize().isin(holidays2)]"
   ]
  },
  {
   "cell_type": "markdown",
   "id": "c30d3207-935b-4f7d-bbf7-5d9510741e8d",
   "metadata": {},
   "source": [
    "---------------------------"
   ]
  },
  {
   "cell_type": "markdown",
   "id": "f2b7e781-e55f-4b19-9e3e-fb995ac2b687",
   "metadata": {},
   "source": [
    "counting workdays"
   ]
  },
  {
   "cell_type": "code",
   "execution_count": null,
   "id": "7d66ab7a-2dfd-46ef-8f18-57453089e31f",
   "metadata": {},
   "outputs": [],
   "source": [
    "# Creating some boundaries\n",
    "year = 2022\n",
    "start = date(year, 1, 1)\n",
    "end = start + pd.offsets.MonthEnd(12)"
   ]
  },
  {
   "cell_type": "markdown",
   "id": "31b43be6-051f-49f5-84a1-895e4501693c",
   "metadata": {},
   "source": [
    "Creating a series of dates between the boundaries<br>\n",
    "by using the custom calendar"
   ]
  },
  {
   "cell_type": "code",
   "execution_count": null,
   "id": "dbcb3986-2a96-4db0-ba29-15f2aa8a4cb8",
   "metadata": {},
   "outputs": [],
   "source": [
    "se = pd.bdate_range(start=start, end=end, freq=CDay(calendar=cal)).to_series()"
   ]
  },
  {
   "cell_type": "markdown",
   "id": "cea47304-959f-43b2-be49-ca4950d81584",
   "metadata": {},
   "source": [
    "Counting the number of working days by month"
   ]
  },
  {
   "cell_type": "code",
   "execution_count": null,
   "id": "0a1e151f-e0cf-4849-9ad8-8197bdd0d836",
   "metadata": {},
   "outputs": [],
   "source": [
    "se.groupby(se.dt.month).count() #.head(10)"
   ]
  },
  {
   "cell_type": "code",
   "execution_count": null,
   "id": "3ab525ee-f948-40f4-bf41-b8c67c567fc7",
   "metadata": {},
   "outputs": [],
   "source": []
  }
 ],
 "metadata": {
  "kernelspec": {
   "display_name": "Python 3 (ipykernel)",
   "language": "python",
   "name": "python3"
  },
  "language_info": {
   "codemirror_mode": {
    "name": "ipython",
    "version": 3
   },
   "file_extension": ".py",
   "mimetype": "text/x-python",
   "name": "python",
   "nbconvert_exporter": "python",
   "pygments_lexer": "ipython3",
   "version": "3.10.2"
  }
 },
 "nbformat": 4,
 "nbformat_minor": 5
}
